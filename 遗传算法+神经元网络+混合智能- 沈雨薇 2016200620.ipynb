{
 "cells": [
  {
   "cell_type": "markdown",
   "metadata": {},
   "source": [
    "# 遗传算法"
   ]
  },
  {
   "cell_type": "markdown",
   "metadata": {},
   "source": [
    "## 问题1"
   ]
  },
  {
   "cell_type": "markdown",
   "metadata": {},
   "source": [
    "$$Max(\\sqrt{x_1}+\\sqrt{x_2}+\\sqrt{x_3})\\\\\n",
    "x_1^2+2x_2^2+3x_3^2\\le1\\\\\n",
    "x_1,x_2,x_3\\ge 0$$"
   ]
  },
  {
   "cell_type": "markdown",
   "metadata": {},
   "source": [
    "### 设置函数"
   ]
  },
  {
   "cell_type": "markdown",
   "metadata": {},
   "source": [
    "定义目标函数，并设计适应度函数。\n",
    "由于这是一个约束问题，需要满足的约束条件比较复杂，所以需要做特殊的处理。经查阅文献知，在GA中对约束问题的处理方法可以分成以下几种。\n",
    "1. 拒绝\n",
    "只要是不再解空间中的染色体，就直接扔掉。但是由于很多约束优化问题初始种群由非可行染色体构成，就需要对他们进行修补，而且在解空间很小的情况下，很容易杀死种群中的全部个体，使算法提前终止。\n",
    "2. 修复\n",
    "将不可行的染色体修复成可行的。修复的程序依赖于具体的问题，有些问题修复过程比原问题还要复杂。\n",
    "修复之后的染色体可以用来做评估，也可以替代原染色体进行遗传。\n",
    "3. 改进遗传算子\n",
    "将问题换一种形式，改变遗传算子的操作等，让不行解不出现。\n",
    "4. 惩罚\n",
    "过程中可能出现不可行的染色体，但是在适应函数中对这种染色体进行惩罚。这样，就把约束问题转换成了无约束问题。\n",
    "\n",
    "在本问题中，我采用了拒绝方法对约束进行限制。（其实是在惩罚函数的框架下，但是让不满足条件的个体适应度直接变成0）"
   ]
  },
  {
   "cell_type": "code",
   "execution_count": 14,
   "metadata": {},
   "outputs": [],
   "source": [
    "import numpy as np\n",
    "import math\n",
    "def aim(variables,legV):\n",
    "    '''其中legV是可行性列向量'''\n",
    "    x1 = variables[:,[0]]\n",
    "    x2 = variables[:,[1]]\n",
    "    x3 = variables[:,[2]]\n",
    "    sqrt = np.vectorize(math.sqrt)\n",
    "    f = sqrt(x1) + sqrt(x2) + sqrt(x3)\n",
    "    idx1 = np.where(x1**2 + 2*x2**2 + 3*x3**2 >1)[0]#采用惩罚方法对于不可行解进行惩罚\n",
    "    #f[idx1] = 0\n",
    "    exIdx = np.unique(np.hstack([idx1])) # 得到非可行解个体的下标\n",
    "    legV[exIdx] = 0 # 标记非可行解在种群可行性列向量中对应的值为0(0表示非可行解，1表示可行解)\n",
    "    return [f,legV]\n",
    "\n",
    "def punishing(LegV, FitnV):\n",
    "    FitnV[np.where(LegV == 0)[0]] = 0 # 惩罚非可行解个体的适应度\n",
    "    return FitnV"
   ]
  },
  {
   "cell_type": "markdown",
   "metadata": {},
   "source": [
    "### 编写遗传算法模板"
   ]
  },
  {
   "cell_type": "markdown",
   "metadata": {},
   "source": [
    "本模板采用的编码方式为实值编码，即染色体中的每个位点对应于实数表达式中的一位。  \n",
    "\n",
    "AIM :目标函数  \n",
    "\n",
    "PUN :罚函数\n",
    "\n",
    "FieldDR : array - 实际值种群区域描述 指定每个变量的上下界[lowerbound, upperbound]\n",
    "\n",
    "problem : str - 表明是整数问题还是实数问题，'I'表示是整数问题，'R'表示是实数问题   \n",
    "\n",
    "maxormin int - 最小最大化标记，1表示目标函数最小化；-1表示目标函数最大化\n",
    "\n",
    "MAXGEN : int - 最大遗传代数\n",
    "\n",
    "NIND : int - 种群规模，即种群中包含多少个个体\n",
    "\n",
    "SUBPOP : int - 子种群数量，即对一个种群划分多少个子种群\n",
    "\n",
    "GGAP ：代沟\n",
    "\n",
    "selectStyle : str - 指代所采用的低级选择算子的名称，如'rws'(轮盘赌选择算子)\n",
    "\n",
    "recombinStyle: str - 指代所采用的低级重组算子的名称，如'xovsp'(单点交叉)\n",
    "\n",
    "recopt : float - 交叉概率\n",
    "\n",
    "pm : float - 变异概率\n",
    "\n",
    "drawing : int - (可选参数)，0表示不绘图，1表示绘制最终结果图，2表示绘制动画。默认drawing为1\n",
    "\n",
    "输出参数：\n",
    "\n",
    "pop_trace : array - 种群进化记录器(进化追踪器),\n",
    "\n",
    "第0列记录着各代种群最优个体的目标函数值\n",
    "\n",
    "第1列记录着各代种群的适应度均值\n",
    "第2列记录着各代种群最优个体的适应度值\n",
    "    \n",
    " var_trace : array - 变量记录器，记录着各代种群最优个体的变量值，每一列对应一个控制变量\n",
    "    \n",
    " times : float - 进化所用时间\n"
   ]
  },
  {
   "cell_type": "code",
   "execution_count": 15,
   "metadata": {},
   "outputs": [],
   "source": [
    "import geatpy as ga\n",
    "import time\n",
    "\n",
    "def GAtemplate(AIM, PUN, FieldDR, problem, maxormin, GGAP, MAXGEN, NIND, SUBPOP, selectStyle, recombinStyle, recopt, pm, drawing = 1):\n",
    "    GGAP = 0.5 # 因为父子合并后选择，因此要将代沟设为0.5以维持种群规模\n",
    "    aimfuc = AIM\n",
    "    if PUN is not None:\n",
    "        punishing = PUN # 获得罚函数\n",
    "    NVAR = FieldDR.shape[1] # 得到控制变量的个数\n",
    "    # 定义进化记录器，初始值为nan\n",
    "    pop_trace = (np.zeros((MAXGEN ,2)) * np.nan)\n",
    "    # 定义变量记录器，记录控制变量值，初始值为nan\n",
    "    var_trace = (np.zeros((MAXGEN ,NVAR)) * np.nan) \n",
    "    repnum = 0 # 初始化重复个体数为0\n",
    "    ax = None # 存储上一帧图形\n",
    "\n",
    "    if problem == 'R':\n",
    "        Chrom = ga.crtrp(NIND, FieldDR) # 生成初始种群\n",
    "    elif problem == 'I':\n",
    "        Chrom = ga.crtip(NIND, FieldDR)\n",
    "    LegV = np.ones((NIND, 1)) # 生成可行性列向量，元素为1表示对应个体是可行解，0表示非可行解\n",
    "    [ObjV, LegV] = aimfuc(Chrom, LegV) # 求初代的目标函数值\n",
    "    gen = 0\n",
    "    badCounter = 0 # 用于记录在“遗忘策略下”被忽略的代数\n",
    "    # 开始进化！！\n",
    "    start_time = time.time() # 开始计时\n",
    "    while gen < MAXGEN:\n",
    "        if badCounter >= 10 * MAXGEN: # 若多花了10倍的迭代次数仍没有可行解出现，则跳出\n",
    "            break\n",
    "        # 进行遗传算子，生成子代\n",
    "        SelCh=ga.recombin(recombinStyle, Chrom, recopt, SUBPOP) # 重组\n",
    "        if problem == 'R':\n",
    "            SelCh=ga.mutbga(SelCh,FieldDR, pm) # 变异\n",
    "        elif problem == 'I':\n",
    "            SelCh=ga.mutint(SelCh, FieldDR, pm) #变异：整数\n",
    "        LegVSel = np.ones((SelCh.shape[0], 1)) # 初始化育种种群的可行性列向量\n",
    "        [ObjVSel, LegVSel] = aimfuc(SelCh, LegVSel) # 求育种种群的目标函数值\n",
    "        # 父子合并\n",
    "        Chrom = np.vstack([Chrom, SelCh])\n",
    "        ObjV = np.vstack([ObjV, ObjVSel])\n",
    "        LegV = np.vstack([LegV, LegVSel])\n",
    "        # 对合并的种群进行适应度评价\n",
    "        FitnV = ga.ranking(maxormin * ObjV, LegV, None, SUBPOP)\n",
    "        if PUN is not None:\n",
    "            FitnV = punishing(LegV, FitnV) # 调用罚函数\n",
    "        # 记录进化过程\n",
    "        bestIdx = np.argmax(FitnV) # 获取最优个体的下标\n",
    "        if LegV[bestIdx] != 0:\n",
    "            feasible = np.where(LegV != 0)[0] # 排除非可行解\n",
    "            pop_trace[gen,0] = np.sum(ObjV[feasible]) / ObjV[feasible].shape[0] # 记录种群个体平均目标函数值\n",
    "            pop_trace[gen,1] = ObjV[bestIdx] # 记录当代目标函数的最优值\n",
    "            var_trace[gen,:] = Chrom[bestIdx, :] # 记录当代最优的控制变量值\n",
    "            repnum = len(np.where(ObjV[bestIdx] == ObjV)[0]) # 计算最优个体重复数\n",
    "            # 绘制动态图\n",
    "            if drawing == 2:\n",
    "                ax = ga.sgaplot(pop_trace[:,[1]],'种群最优个体目标函数值', False, ax, gen)\n",
    "        else:\n",
    "            gen -= 1 # 忽略这一代\n",
    "            badCounter += 1\n",
    "        [Chrom,ObjV,LegV]=ga.selecting(selectStyle, Chrom, FitnV, GGAP, SUBPOP, ObjV, LegV) # 选择个体生成新一代种群\n",
    "        gen += 1\n",
    "    end_time = time.time() # 结束计时\n",
    "    times = end_time - start_time\n",
    "    # 绘图\n",
    "    if drawing != 0:\n",
    "        ga.trcplot(pop_trace, [['种群个体平均目标函数值', '种群最优个体目标函数值']])\n",
    "    # 输出结果\n",
    "    if maxormin == 1:\n",
    "        best_gen = np.argmin(pop_trace[:, 1]) # 记录最优种群是在哪一代\n",
    "        best_ObjV = np.min(pop_trace[:, 1])\n",
    "    elif maxormin == -1:\n",
    "        best_gen = np.argmax(pop_trace[:, 1]) # 记录最优种群是在哪一代\n",
    "        best_ObjV = np.max(pop_trace[:, 1])\n",
    "    if np.isnan(best_ObjV):\n",
    "        raise RuntimeError('error: no feasible solution. (没找到可行解。)')\n",
    "    print('最优的目标函数值为：', best_ObjV)\n",
    "    print('最优的控制变量值为：')\n",
    "    for i in range(NVAR):\n",
    "        print(var_trace[best_gen, i])\n",
    "    print('最优的一代是第', best_gen + 1, '代')\n",
    "    print('时间已过', times, '秒')\n",
    "    # 返回进化记录器、变量记录器以及执行时间\n",
    "    return [pop_trace, var_trace, times]\n"
   ]
  },
  {
   "cell_type": "markdown",
   "metadata": {},
   "source": [
    "### 实际问题求解"
   ]
  },
  {
   "cell_type": "markdown",
   "metadata": {},
   "source": [
    "先找到边界，然后从边界开始搜索。可以直接调用内置模板，但是为了更直观地展现过程，所以使用之前编写过的简化过的模板。"
   ]
  },
  {
   "cell_type": "code",
   "execution_count": 16,
   "metadata": {},
   "outputs": [
    {
     "data": {
      "image/png": "[encoded data removed]",
      "text/plain": [
       "<Figure size 432x288 with 1 Axes>"
      ]
     },
     "metadata": {
      "needs_background": "light"
     },
     "output_type": "display_data"
    },
    {
     "name": "stdout",
     "output_type": "stream",
     "text": [
      "最优的目标函数值为： 1.972194164987945\n",
      "最优的控制变量值为：\n",
      "0.5537167397557463\n",
      "0.4173777423511609\n",
      "0.3387530116704016\n",
      "最优的一代是第 14 代\n",
      "时间已过 1.9777874946594238 秒\n"
     ]
    }
   ],
   "source": [
    "import geatpy as ga\n",
    "\n",
    "# 变量设置\n",
    "x1 = [0, 2]                        # 自变量1的范围\n",
    "x2 = [0, 1]                      # 自变量2的范围\n",
    "x3 = [0, 1]                      # 自变量3的范围\n",
    "b1 = [1, 1]                          # 自变量1是否包含界\n",
    "b2 = [1, 1]                          # 自变量2是否包含界\n",
    "b3 = [1, 1]                          # 自变量3是否包含界\n",
    "ranges = np.vstack([x1, x2, x3]).T       # 生成自变量的范围矩阵\n",
    "borders = np.vstack([b1, b2, b3]).T      # 生成自变量的边界矩阵\n",
    "FieldDR = ga.crtfld(ranges, borders) # 生成区域描述器\n",
    "# 调用模板\n",
    "[pop_trace, var_trace, times] = GAtemplate(aim, punishing, FieldDR, problem = 'R', maxormin = -1, MAXGEN = 1000, NIND = 30, SUBPOP = 1, GGAP = 0.9, selectStyle = 'tour', recombinStyle = 'xovdp', recopt = 0.9, pm = 0.3, drawing = 1)\n",
    "\n",
    "#也可以调greatpy内置的算法模板\n",
    "#AIM=__import__('aim')\n",
    "#[pop_trace, var_trace, times] = ga.sga_new_real_templet(AIM,'aim',None,None,FieldDR, problem = 'I', maxormin = -1, MAXGEN = 1000, NIND = 100, SUBPOP = 1, GGAP = 0.9, selectStyle = 'tour', recombinStyle = 'xovdp', recopt = 0.9, pm = 0.3, distribute = True,drawing = 1)"
   ]
  },
  {
   "cell_type": "code",
   "execution_count": 17,
   "metadata": {},
   "outputs": [
    {
     "data": {
      "image/png": "[encoded data removed]",
      "text/plain": [
       "<Figure size 432x288 with 1 Axes>"
      ]
     },
     "metadata": {
      "needs_background": "light"
     },
     "output_type": "display_data"
    },
    {
     "name": "stdout",
     "output_type": "stream",
     "text": [
      "最优的目标函数值为： 1.9734660742992167\n",
      "最优的控制变量值为：\n",
      "0.6122357266065648\n",
      "0.3609160092492558\n",
      "0.34839303485824613\n",
      "最优的一代是第 838 代\n",
      "时间已过 2.162379741668701 秒\n"
     ]
    }
   ],
   "source": [
    "[pop_trace, var_trace, times] = GAtemplate(aim, punishing, FieldDR, problem = 'R', maxormin = -1, MAXGEN = 1000, NIND = 30, SUBPOP = 1, GGAP = 0.9, selectStyle = 'rws', recombinStyle = 'xovdp', recopt = 0.9, pm = 0.3, drawing = 1)"
   ]
  },
  {
   "cell_type": "markdown",
   "metadata": {},
   "source": [
    "## 问题2：用GA解目标规划问题"
   ]
  },
  {
   "cell_type": "markdown",
   "metadata": {},
   "source": [
    "$$Lex Min(d_1^-,d_2^-,d_3^-)\\\\\n",
    "3-\\sqrt{x_1}=d_1^-\\\\\n",
    "4 -\\sqrt{x_1+2x_2}=d_2^-\\\\\n",
    "5-\\sqrt{x_1+2x_2+3x_3}=d_3^-\\\\\n",
    "x_1^2+x_2^2+x_3^2\\le 100\\\\\n",
    "x_1,x_2,x_3\\ge 0$$"
   ]
  },
  {
   "cell_type": "markdown",
   "metadata": {},
   "source": [
    "### 编写目标函数和惩罚函数"
   ]
  },
  {
   "cell_type": "markdown",
   "metadata": {},
   "source": [
    "在编写目标规划的目标函数的时候，由于有三个优先级，所以给3个不同的优先级乘上3个不同的权重系数，不妨分别为1000,100和1。"
   ]
  },
  {
   "cell_type": "code",
   "execution_count": 18,
   "metadata": {},
   "outputs": [],
   "source": [
    "def aim(variables,legV):\n",
    "    '''其中legV是可行性列向量'''\n",
    "    x1 = variables[:,[0]]\n",
    "    x2 = variables[:,[1]]\n",
    "    x3 = variables[:,[2]]\n",
    "    sqrt = np.vectorize(math.sqrt)\n",
    "    Max = np.vectorize(max)\n",
    "    obj1 = np.abs(3 - sqrt(x1))\n",
    "    obj2 = np.abs(4-sqrt(x1+2*x2))\n",
    "    obj3 = np.abs(5-sqrt(x1+2*x2+3*x3))\n",
    "    f = 1000*obj1 + 100*obj2 +obj3\n",
    "    idx1 = np.where(x1**2 + x2**2 + x3**2 >100)[0]#采用惩罚方法对于不可行解进行惩罚\n",
    "    idx2 = np.where(3 - sqrt(x1)<0)[0]\n",
    "    idx3 = np.where(4 - sqrt(x1+2*x2)<0)[0]\n",
    "    idx4 = np.where(5 - sqrt(x1+2*x2+3*x3)<0)[0]\n",
    "    f[idx1] = 0\n",
    "    f[idx2] = 0\n",
    "    f[idx3] = 0\n",
    "    f[idx4] = 0\n",
    "    exIdx = np.unique(np.hstack([idx1,idx2,idx3,idx4])) # 得到非可行解个体的下标\n",
    "    legV[exIdx] = 0 # 标记非可行解在种群可行性列向量中对应的值为0(0表示非可行解，1表示可行解)\n",
    "    return [f,legV]\n"
   ]
  },
  {
   "cell_type": "markdown",
   "metadata": {},
   "source": [
    "### 对实际问题进行求解"
   ]
  },
  {
   "cell_type": "code",
   "execution_count": 19,
   "metadata": {},
   "outputs": [
    {
     "data": {
      "image/png": "[encoded data removed]",
      "text/plain": [
       "<Figure size 432x288 with 1 Axes>"
      ]
     },
     "metadata": {
      "needs_background": "light"
     },
     "output_type": "display_data"
    },
    {
     "name": "stdout",
     "output_type": "stream",
     "text": [
      "最优的目标函数值为： 0.12365047189440492\n",
      "最优的控制变量值为：\n",
      "8.999991517793449\n",
      "3.4999971323820693\n",
      "2.598107368571882\n",
      "最优的一代是第 360 代\n",
      "时间已过 3.684211015701294 秒\n"
     ]
    }
   ],
   "source": [
    "# 变量设置\n",
    "x1 = [0, 10]                        # 自变量1的范围\n",
    "x2 = [0, 8]                      # 自变量2的范围\n",
    "x3 = [0, 9]                      # 自变量3的范围\n",
    "b1 = [1, 1]                          # 自变量1是否包含界\n",
    "b2 = [1, 1]                          # 自变量2是否包含界\n",
    "b3 = [1, 1]                          # 自变量3是否包含界\n",
    "ranges = np.vstack([x1, x2, x3]).T       # 生成自变量的范围矩阵\n",
    "borders = np.vstack([b1, b2, b3]).T      # 生成自变量的边界矩阵\n",
    "FieldDR = ga.crtfld(ranges, borders) # 生成区域描述器\n",
    "# 调用模板\n",
    "[pop_trace, var_trace, times] = GAtemplate(aim, punishing, FieldDR, problem = 'R', maxormin = 1, MAXGEN = 1000, NIND = 100, SUBPOP = 1, GGAP = 0.9, selectStyle = 'tour', recombinStyle = 'xovdp', recopt = 0.9, pm = 0.5, drawing = 1)\n"
   ]
  },
  {
   "cell_type": "markdown",
   "metadata": {},
   "source": [
    "注：如果直接让优化的目标为$max(3-\\sqrt{x_1})$，则函数的最优解始终会记录0，因为可能产生让$3-\\sqrt{x_1}$等三个目标式都小于0的染色体，但是这种情况下的$x_1,x_2,x_3$不会被记录下来，从而产生最优控制变量和最优解不对应的情况。要修正这个问题非常简单，只需要将原来的目标函数加上绝对值，并增加目标式必须为正数的约束条件即可。上面是修正之后的结果。"
   ]
  },
  {
   "cell_type": "markdown",
   "metadata": {},
   "source": [
    "# 神经元网络算法"
   ]
  },
  {
   "cell_type": "markdown",
   "metadata": {},
   "source": [
    "在神经元网络的部分，我主要用了两种方式来实现：\n",
    "\n",
    "1. 自定义神经元网络的类，使用梯度下降法实现神经元网络参数的更新，从而减小误差\n",
    "2. 利用Pytorch深度学习框架，搭建多层神经元网络，使用误差反向传播法训练，选择Adam的参数优化方式，实现神经元网络的快速收敛"
   ]
  },
  {
   "cell_type": "markdown",
   "metadata": {},
   "source": [
    "## 输出是单个值的例子"
   ]
  },
  {
   "cell_type": "markdown",
   "metadata": {},
   "source": [
    "$$f(x_1,x_2,x_3,x_4)=\\sin{x_1}+\\sin{x_2}+\\sin{x_3}+\\sin{x_4}\\\\\n",
    "x_i \\in [0,2\\pi],i\\in\\{1,2,3,4\\}$$"
   ]
  },
  {
   "cell_type": "code",
   "execution_count": 20,
   "metadata": {
    "scrolled": true
   },
   "outputs": [],
   "source": [
    "def sigm(x):\n",
    "    return 1.0/(1.0+math.exp(-x))\n",
    "\n",
    "def f(x):# 要逼近的函数，用于生成样本\n",
    "    return(list(map(lambda x : sum(np.sin(x).tolist()),x)))\n",
    "\n",
    "def sample(a,b,n):#生成n个样本\n",
    "    array=np.random.rand(4,n)*(b-a)+a\n",
    "    y = f(np.transpose(array))\n",
    "    return ([np.transpose(array),y])\n",
    "\n",
    "class NN():\n",
    "    def __init__(self,a,b,n_sam,ni,nh,no):\n",
    "        self.W1 = np.random.random((nh,ni)) #输入层与隐层之间的权重\n",
    "        self.B1 = np.random.random((nh,1)) #隐含层神经元的阈值\n",
    "        self.W2 = np.random.random((no,nh)) #隐含层与输出层之间的权重\n",
    "        self.B2 = np.random.random((no,1)) #输出层神经元的阈值\n",
    "        self.threshold = 0.05 #学习速率\n",
    "        self.max_steps = 1000\n",
    "        self.ni = ni\n",
    "        self.nh = nh\n",
    "        self.no = no\n",
    "        self.Z1 = None\n",
    "        self.A1 = None\n",
    "        self.E = []#平均误差随迭代次数的变化\n",
    "        self.Z2 = np.zeros((n_sam,no)) # 模型的输出结果\n",
    "        self.a =a\n",
    "        self.b=b\n",
    "        self.n_sam=n_sam\n",
    "    def predict(self,x):#一遍向前，计算结果\n",
    "        sigmoid = np.vectorize(sigm)\n",
    "        self.Z1 = np.dot(self.W1,x.T)+self.B1 # 隐含层输入数据          \n",
    "        self.A1 = sigmoid(self.Z1) #输出数据\n",
    "        self.Z2 = np.dot(self.W2,self.A1) + self.B2 #模型输出\n",
    "        return self.Z2\n",
    "    def back_propagate(self,x,y):\n",
    "        sigmoid = np.vectorize(sigm)\n",
    "        temp = 0\n",
    "        e = np.add(self.Z2,-y)#误差项\n",
    "        dZ2 = e  #梯度下降\n",
    "        dW2 = np.dot(dZ2,self.A1.T)/self.n_sam\n",
    "        dB2 = np.sum(dZ2,axis=1,keepdims=True)/self.n_sam\n",
    "        dZ1 = np.dot(self.W2.T,dZ2)*(1-np.power(self.A1,2))\n",
    "        dW1 = np.dot(dZ1,x)/self.n_sam\n",
    "        dB1 = np.sum(dZ1,axis=1,keepdims=True)/self.n_sam\n",
    "        self.W1 = self.W1 - self.threshold*dW1\n",
    "        self.B1 = self.B1 - self.threshold*dB1\n",
    "        self.W2 = self.W2 - self.threshold*dW2\n",
    "        self.B2 = self.B2 - self.threshold*dB2\n",
    "        temp = np.sum(abs(e))/self.n_sam\n",
    "        return temp\n",
    "    def train(self,x,y):\n",
    "        e = 1\n",
    "        while e >= 0.01:\n",
    "            for k in range(self.max_steps):\n",
    "                self.predict(x)\n",
    "                e = self.back_propagate(x,y)\n",
    "                self.E.append(e)\n",
    "            print(e)\n",
    "    def test(self):\n",
    "        samples = sample(self.a,self.b,self.n_sam)\n",
    "        x = samples[0]\n",
    "        y = np.array(samples[1])\n",
    "        self.train(x,y)\n",
    "        print(self.predict(x),'\\n')\n",
    "\n",
    "#nn= NN(0,2*math.pi,1000,4,10,1)\n",
    "#nn.test()\n",
    "#samples = sample(0,2*math.pi,1000)\n",
    "#x = samples[0]\n",
    "#y = np.array(samples[1])\n",
    "#nn.train(x,y)"
   ]
  },
  {
   "cell_type": "markdown",
   "metadata": {},
   "source": [
    "由于自己写的神经网络实在是太慢了，效果也不是很好，所以我使用pytorch深度学习框架，手动搭建神经元网络，优化参数更新方式，更快地实现函数逼近。\n",
    "tensor指的就是高维向量，和Numpy数组比较像,速度非常快"
   ]
  },
  {
   "cell_type": "code",
   "execution_count": 21,
   "metadata": {},
   "outputs": [
    {
     "data": {
      "text/plain": [
       "array([0.03416206], dtype=float32)"
      ]
     },
     "execution_count": 21,
     "metadata": {},
     "output_type": "execute_result"
    }
   ],
   "source": [
    "import torch \n",
    "from torch.autograd import Variable\n",
    "import torch.nn.functional as F\n",
    "\n",
    "samples = sample(0,2*math.pi,1000)\n",
    "x = samples[0]\n",
    "y = np.array([samples[1]])\n",
    "x = torch.from_numpy(x)\n",
    "y = torch.from_numpy(y)\n",
    "x,y = x.float() , y.float() #如果不用float 精度跟不上\n",
    "\n",
    "## 搭建神经元网络\n",
    "class NN(torch.nn.Module):\n",
    "    def __init__(self,ni,nh,no):\n",
    "        super(NN,self).__init__() #继承神经元网络的父类\n",
    "        self.hidden = torch.nn.Linear(ni,nh)#隐藏层\n",
    "        self.predict = torch.nn.Linear(nh,no) #预测\n",
    "        \n",
    "    def forward(self,x): #向前\n",
    "        x = torch.relu(self.hidden(x)) #参数传递到隐藏层\n",
    "        x = self.predict(x) #预测\n",
    "        return x\n",
    "\n",
    "## 建立神经元网络\n",
    "net = NN(4,10,1)\n",
    "##优化神经网络\n",
    "optimizer = torch.optim.Adam(net.parameters(),lr = 0.05)\n",
    "loss = torch.nn.MSELoss() \n",
    "for t in range(1000):\n",
    "    prediction = net(x)\n",
    "    loss_value = loss(prediction,y) #算误差\n",
    "    optimizer.zero_grad()#先把梯度降成0，免得梯度爆炸\n",
    "    loss_value.backward() #反向传播\n",
    "    optimizer.step() #优化梯度\n",
    "    \n",
    "net = net.eval() # 转换成测试模式\n",
    "\n",
    "## 下面试验搭建的神经元网络的预测效果，以[0,0,0,0]为例\n",
    "data_X = torch.Tensor([0,0,0,0])\n",
    "var_data = Variable(data_X)\n",
    "pred_test = net(var_data) # 测试集的预测结果\n",
    "# 改变输出的格式\n",
    "pred_test = pred_test.view(-1).data.numpy()\n",
    "pred_test\n"
   ]
  },
  {
   "cell_type": "markdown",
   "metadata": {},
   "source": [
    "## 向量的例子"
   ]
  },
  {
   "cell_type": "markdown",
   "metadata": {},
   "source": [
    "$$ \\begin{equation}  f(x_1,x_2,x_3,x_4,x_5,x_6)= \\left(\n",
    "  \\begin{array}{c} \n",
    "   x_1ln(x_2)& +x_2ln(x_3) \\\\ \n",
    "    x_3ln(x_4)&+x_4ln(x_5) \\\\  \n",
    "    x_5ln(x_6)&+x_6ln(x_1)\\end{array}\\right)               \n",
    "\\end{equation}\\\\\n",
    "x_i \\in [1,5]$$\n"
   ]
  },
  {
   "cell_type": "code",
   "execution_count": 22,
   "metadata": {},
   "outputs": [],
   "source": [
    "def f(x):# 要逼近的函数，用于生成样本  \n",
    "    y1 = list(map(lambda x:np.log(x[1])*x[0]+np.log(x[2])*x[1],x))\n",
    "    y2 = list(map(lambda x:np.log(x[3])*x[2]+np.log(x[4])*x[3],x))\n",
    "    y3 = list(map(lambda x:np.log(x[5])*x[4]+np.log(x[0])*x[5],x))\n",
    "    y = np.array([y1,y2,y3])\n",
    "    return(y)\n",
    "\n",
    "def sample(a,b,n):#生成(a,b)间n组样本\n",
    "    array=np.random.rand(6,n)*(b-a)+a\n",
    "    y = f(np.transpose(array))\n",
    "    return ([np.transpose(array),np.transpose(y)])\n",
    "\n",
    "## 生成样本\n",
    "sam = sample(1,5,1000)\n",
    "x = sam[0]\n",
    "y = np.array(sam[1])\n",
    "x = torch.from_numpy(x)\n",
    "y = torch.from_numpy(y)\n",
    "\n",
    "x,y = Variable(x), Variable(y)\n",
    "x,y = x.float() , y.float()\n",
    "\n",
    "net = NN(6,15,3)\n",
    "\n",
    "##优化神经网络\n",
    "optimizer = torch.optim.SGD(net.parameters(),lr = 0.01)\n",
    "loss = torch.nn.MSELoss() \n",
    "for t in range(1000):\n",
    "    prediction = net(x)\n",
    "    loss_value = loss(prediction,y) #算误差\n",
    "    optimizer.zero_grad()#先把梯度降成0，免得梯度爆炸\n",
    "    loss_value.backward() #反向传播\n",
    "    optimizer.step() #优化梯度\n"
   ]
  },
  {
   "cell_type": "code",
   "execution_count": 23,
   "metadata": {},
   "outputs": [
    {
     "data": {
      "text/plain": [
       "array([5.1219583, 5.300033 , 5.2273035], dtype=float32)"
      ]
     },
     "execution_count": 23,
     "metadata": {},
     "output_type": "execute_result"
    }
   ],
   "source": [
    "#进行测试 ，以[e,e,e,e,e,e]为例，返回值应该逼近（2e,2e,2e,2e)\n",
    "net = net.eval() # 转换成测试模式\n",
    "data_X = torch.Tensor([math.e,math.e,math.e,math.e,math.e,math.e])\n",
    "var_data = Variable(data_X)\n",
    "pred_test = net(var_data) # 测试集的预测结果\n",
    "# 改变输出的格式\n",
    "pred_test = pred_test.view(-1).data.numpy()\n",
    "pred_test"
   ]
  },
  {
   "cell_type": "markdown",
   "metadata": {},
   "source": [
    "# 混合遗传算法"
   ]
  },
  {
   "cell_type": "markdown",
   "metadata": {},
   "source": [
    "1. 通过模拟，生成变量样本x,y\n",
    "2. 根据1中的样本，标签训练一个NN来逼近这个含随机变量的函数的值\n",
    "3. 指定种群数量n，产生n个染色体，他们的可行性用2中的NN来衡量\n",
    "4. 遗传算子\n",
    "5. 计算每个染色体的纳什均衡，用神经元网络来解目标值\n",
    "6. 用目标值来衡量每个染色体的可行性\n",
    "7. 用轮盘赌来选择\n",
    "8. 重复上述过程\n",
    "9. 返回斯坦伯格-纳什均衡， 即为最优解"
   ]
  },
  {
   "cell_type": "markdown",
   "metadata": {},
   "source": [
    "## 随机变量搜索"
   ]
  },
  {
   "cell_type": "markdown",
   "metadata": {},
   "source": [
    "$$ min E\\sqrt{(x_1-\\xi_1)^2+(x_2-\\xi_2)^2+(x_3-\\xi_3)^2}\\\\\n",
    "x_1^2+x_2^2+x_3^2\\le 10\\\\\n",
    "\\xi_1 \\sim U(1,2),\\xi_2 \\sim N(3,1),\\xi_3 \\sim exp(4)$$"
   ]
  },
  {
   "cell_type": "code",
   "execution_count": 24,
   "metadata": {},
   "outputs": [],
   "source": [
    "## 计算样本目标值的函数\n",
    "def calculate_y(x):\n",
    "    aim = []\n",
    "    for i in range(len(x)):\n",
    "        v1 = np.random.uniform(1,2,3000)\n",
    "        v2 = np.random.normal(3,1,3000)\n",
    "        v3 = np.random.exponential(4,3000)\n",
    "        fx = np.sqrt((v1-x[i][0])**2+(v2-x[i][1])**2+(v3-x[i][0])**2).mean()\n",
    "        aim.append(fx) #对每一个随机数，计算均值\n",
    "    return np.array(aim)\n",
    "\n",
    "## 抽样函数\n",
    "def sample(a,b,n):#生成样本x1,x2,x3,他们都在0-4之间而且满足约束\n",
    "    a = np.array(np.random.rand(3,n)*(b-a)+a)\n",
    "    condition = np.where(a[0]**2+a[1]**2+a[2]**2<=10)\n",
    "    b = np.transpose(a)[condition]\n",
    "    return b\n",
    "\n",
    "## 生成样本\n",
    "x= sample(0,4,5000)\n",
    "y =calculate_y(x)\n",
    "n_sam = len(x)\n",
    "x = torch.from_numpy(x).float()\n",
    "y = torch.from_numpy(y).float()"
   ]
  },
  {
   "cell_type": "code",
   "execution_count": 25,
   "metadata": {},
   "outputs": [],
   "source": [
    "## 训练神经元网络\n",
    "net = NN(3,15,1)\n",
    "optimizer = torch.optim.RMSprop(net.parameters(),lr = 0.01)\n",
    "loss = torch.nn.MSELoss() \n",
    "\n",
    "for t in range(1000):\n",
    "    prediction = net(x)\n",
    "    loss_value = loss(prediction,y) #算误差\n",
    "    optimizer.zero_grad()#先把梯度降成0，免得梯度爆炸\n",
    "    loss_value.backward() #反向传播\n",
    "    optimizer.step() #优化梯度\n",
    "\n",
    "#转化成测试模式\n",
    "net = net.eval()"
   ]
  },
  {
   "cell_type": "code",
   "execution_count": 26,
   "metadata": {},
   "outputs": [],
   "source": [
    "#逼近函数,输入为x，是个array,输出也是个array，即输出目标函数\n",
    "def appro_func(x):\n",
    "    data_X = torch.from_numpy(x)\n",
    "    data_X = data_X.float()\n",
    "    var_data = Variable(data_X)\n",
    "    pred_test = net(var_data) # 测试集的预测结果\n",
    "    # 改变输出的格式\n",
    "    pred_test = pred_test.view(-1).data.numpy()\n",
    "    return np.array([pred_test])\n",
    "\n",
    "# 修改适应性函数\n",
    "def aim(variables,legV):\n",
    "    '''其中legV是可行性列向量'''\n",
    "    x1 = variables[:,[0]]\n",
    "    x2 = variables[:,[1]]\n",
    "    x3 = variables[:,[2]]\n",
    "    f = appro_func(np.concatenate((x1,x2,x3),axis=1))\n",
    "    idx1 = np.where(x1**2 + x2**2 + x3**2 >10)[0]#采用惩罚方法对于不可行解进行惩罚\n",
    "    f[0][idx1] = 0\n",
    "    exIdx = np.unique(np.hstack([idx1])) # 得到非可行解个体的下标\n",
    "    legV[exIdx] = 0 # 标记非可行解在种群可行性列向量中对应的值为0(0表示非可行解，1表示可行解)\n",
    "    return [np.transpose(f),legV]\n"
   ]
  },
  {
   "cell_type": "code",
   "execution_count": 60,
   "metadata": {},
   "outputs": [
    {
     "data": {
      "image/png": "[encoded data removed]",
      "text/plain": [
       "<Figure size 432x288 with 1 Axes>"
      ]
     },
     "metadata": {
      "needs_background": "light"
     },
     "output_type": "display_data"
    },
    {
     "name": "stdout",
     "output_type": "stream",
     "text": [
      "最优的目标函数值为： 4.163848876953125\n",
      "最优的控制变量值为：\n",
      "1.760707387541395\n",
      "2.1664882213763836\n",
      "1.4853383196952095\n",
      "最优的一代是第 829 代\n",
      "时间已过 0.9039349555969238 秒\n"
     ]
    }
   ],
   "source": [
    "##开始遗传算法##\n",
    "# 变量设置\n",
    "x1 = [0, 4]                        # 自变量1的范围\n",
    "x2 = [0, 4]                      # 自变量2的范围\n",
    "x3 = [0, 4]                      # 自变量3的范围\n",
    "b1 = [1, 1]                          # 自变量1是否包含界\n",
    "b2 = [1, 1]                          # 自变量2是否包含界\n",
    "b3 = [1, 1]                          # 自变量3是否包含界\n",
    "ranges = np.vstack([x1, x2, x3]).T       # 生成自变量的范围矩阵\n",
    "borders = np.vstack([b1, b2, b3]).T      # 生成自变量的边界矩阵\n",
    "FieldDR = ga.crtfld(ranges, borders) # 生成区域描述器\n",
    "# 调用模板,最小化目标函数\n",
    "[pop_trace, var_trace, times] = GAtemplate(aim, punishing, FieldDR, problem = 'R', maxormin = 1, MAXGEN = 1000, NIND = 30, SUBPOP = 1, GGAP = 0.9, selectStyle = 'tour', recombinStyle = 'xovdp', recopt = 0.9, pm = 0.3, drawing = 1)\n"
   ]
  },
  {
   "cell_type": "markdown",
   "metadata": {},
   "source": [
    "## 2 概率函数的例子"
   ]
  },
  {
   "cell_type": "markdown",
   "metadata": {},
   "source": [
    "$$max \\bar{f}\\\\\n",
    "Pr(\\xi_1 x_1+\\xi_2 x_2 +\\xi_3 x_3 \\ge\\bar{f})\\ge 0.9\\\\\n",
    "Pr(\\eta_1 x_1^2+\\eta_2 x_2^2 +\\eta_3 x_3^2 \\le 8)\\ge 0.8\\\\\n",
    "Pr(\\zeta_1 x_1^3 +\\zeta_2 x_2^3 +\\zeta_3 x_3^3 \\le15)\\ge0.85\\\\\n",
    "x_1,x_2,x_3\\ge0\\\\\n",
    "\\xi_1,\\eta_1,\\zeta_1 \\sim U(1,2);U(2,3);U(3,4)\\\\\n",
    "\\xi_2,\\eta_2,\\zeta_2 \\sim N(1,1);N(2,1);N(3,1)\\\\\n",
    "\\xi_3,\\eta_3,\\zeta_3 \\sim exp(1);exp(2);exp(3)\n",
    "$$"
   ]
  },
  {
   "cell_type": "markdown",
   "metadata": {},
   "source": [
    "首先，生成计算概率的函数和计算百分数位点的函数。"
   ]
  },
  {
   "cell_type": "code",
   "execution_count": 31,
   "metadata": {},
   "outputs": [],
   "source": [
    "## 计算概率的函数\n",
    "def frequency(array,c,direction='s'):\n",
    "    '''\n",
    "    input param array：随机数序列\n",
    "    input param c： 临界值\n",
    "    input param direction: 's'小于临界值;'b'大于临界值\n",
    "    return: 满足条件的频率\n",
    "    '''\n",
    "    n=len(array)\n",
    "    if n==0:\n",
    "        return\n",
    "    freq=0\n",
    "    if direction=='s':\n",
    "        for i in array:\n",
    "            if i <=c:\n",
    "                freq+=1\n",
    "    else:\n",
    "        for i in array:\n",
    "            if i>=c:\n",
    "                freq+=1\n",
    "    p=freq/n\n",
    "    return p\n",
    "## 计算百分位点的函数   \n",
    "def percentile(array,alpha,lower=False):\n",
    "    '''\n",
    "    input param array: 随机数序列\n",
    "    input param alpha: 百分位点\n",
    "    input param lower: 下百分位点,默认True\n",
    "    return percentile：返回百分位点\n",
    "    '''\n",
    "    if alpha>1:\n",
    "        return\n",
    "    array=np.sort(array)\n",
    "    n=len(array)\n",
    "    if lower==False:\n",
    "        ind=int(round(n*alpha))\n",
    "    else:\n",
    "        ind=int(round(n*(1-alpha)))\n",
    "    return array[ind]\n"
   ]
  },
  {
   "cell_type": "markdown",
   "metadata": {},
   "source": [
    "定义生成样本的函数和计算下面几个函数的值\n",
    "$$u_1 =\\{max \\bar{f}|Pr(\\xi_1 x_1+\\xi_2 x_2 +\\xi_3 x_3 \\ge\\bar{f})\\ge 0.9\\}\\\\\n",
    "u_2 = Pr(\\eta_1 x_1^2+\\eta_2 x_2^2 +\\eta_3 x_3^2 \\le 8)\\\\\n",
    "u_3 = Pr(\\zeta_1 x_1^3 +\\zeta_2 x_2^3 +\\zeta_3 x_3^3 )\n",
    "$$"
   ]
  },
  {
   "cell_type": "code",
   "execution_count": 32,
   "metadata": {},
   "outputs": [],
   "source": [
    "def sample(a,b,n):#生成样本x1,x2,x3,为了保证效率，尽量缩小值域\n",
    "    a = np.array(np.random.rand(3,n)*(b-a)+a)\n",
    "    return np.transpose(a)\n",
    "\n",
    "## 计算f的值\n",
    "def calculate_y(x):\n",
    "    aim = []\n",
    "    for i in range(len(x)):\n",
    "        v1 = np.random.uniform(1,2,3000)\n",
    "        v2 = np.random.normal(1,1,3000)\n",
    "        v3 = np.random.exponential(1,3000)\n",
    "        aim_f = v1*x[i][0]+v2*x[i][1]+v3*x[i][2]\n",
    "        perc = percentile(aim_f,0.9,lower = True) #下百分位点\n",
    "        aim.append(perc)\n",
    "    return np.array(aim)\n",
    "\n",
    "## 计算第二个约束的概率-u2\n",
    "def cal_u2(x):\n",
    "    aim = []\n",
    "    for i in range(len(x)):\n",
    "        v1 = np.random.uniform(2,3,3000)\n",
    "        v2 = np.random.normal(2,1,3000)\n",
    "        v3 = np.random.exponential(2,3000)\n",
    "        aim_f = v1*x[i][0]**2+v2*x[i][1]**2+v3*x[i][2]**2\n",
    "        perc = frequency(aim_f,8)\n",
    "        aim.append(perc)\n",
    "    return np.array(aim)\n",
    "\n",
    "## 计算第三个约束的概率-u3\n",
    "def cal_u3(x):\n",
    "    aim = []\n",
    "    for i in range(len(x)):\n",
    "        v1 = np.random.uniform(3,4,3000)\n",
    "        v2 = np.random.normal(3,1,3000)\n",
    "        v3 = np.random.exponential(3,3000)\n",
    "        aim_f = v1*x[i][0]**3+v2*x[i][1]**3+v3*x[i][2]**3\n",
    "        perc = frequency(aim_f,15)\n",
    "        aim.append(perc)\n",
    "    return np.array(aim)\n",
    "\n",
    "## 生成样本\n",
    "x = sample(0,3,5000) #生成样本,维数 3*n\n",
    "y = calculate_y(x) #计算对应的函数值\n",
    "u2 = cal_u2(x) #约束函数\n",
    "u3 = cal_u3(x) \n",
    "x = torch.from_numpy(x)\n",
    "y = torch.from_numpy(y)\n",
    "u2 = torch.from_numpy(u2)\n",
    "u3 = torch.from_numpy(u3)\n",
    "x,y,u2,u3 = Variable(x), Variable(y),Variable(u2),Variable(u3)\n",
    "x,y,u2,u3 = x.float() , y.float(),u2.float(),u3.float()\n",
    "n_sam = len(x) #满足条件的样本个数\n"
   ]
  },
  {
   "cell_type": "markdown",
   "metadata": {},
   "source": [
    "分别训练3个神经元网络来逼近上述的3个函数。这里没有选择一层隐藏层的神经元网络，而是选择了多层的。"
   ]
  },
  {
   "cell_type": "code",
   "execution_count": 33,
   "metadata": {},
   "outputs": [
    {
     "data": {
      "text/plain": [
       "MLPRegressor(activation='relu', alpha=0.0001, batch_size='auto', beta_1=0.9,\n",
       "       beta_2=0.999, early_stopping=False, epsilon=1e-08,\n",
       "       hidden_layer_sizes=(100,), learning_rate='adaptive',\n",
       "       learning_rate_init=0.001, max_iter=200, momentum=0.9,\n",
       "       n_iter_no_change=10, nesterovs_momentum=True, power_t=0.5,\n",
       "       random_state=None, shuffle=True, solver='adam', tol=0.0001,\n",
       "       validation_fraction=0.1, verbose=False, warm_start=False)"
      ]
     },
     "execution_count": 33,
     "metadata": {},
     "output_type": "execute_result"
    }
   ],
   "source": [
    "from sklearn.neural_network import MLPRegressor as MLP \n",
    "\n",
    "u1net = MLP(activation='relu', learning_rate='adaptive')\n",
    "u1net.fit(x,y)\n",
    "u2net = MLP(activation='relu', learning_rate='adaptive')\n",
    "u2net.fit(x,u2)\n",
    "u3net =MLP(activation='relu', learning_rate='adaptive')\n",
    "u3net.fit(x,u3)"
   ]
  },
  {
   "cell_type": "code",
   "execution_count": 34,
   "metadata": {},
   "outputs": [],
   "source": [
    "# 修改适应性函数\n",
    "def punishing(LegV, FitnV):\n",
    "    FitnV[np.where(LegV == 0)[0]] = 0.3 # 惩罚非可行解个体的适应度\n",
    "    return FitnV\n",
    "#定义目标函数\n",
    "def aim(variables,legV):\n",
    "    '''其中legV是可行性列向量'''\n",
    "    x1 = variables[:,[0]]\n",
    "    x2 = variables[:,[1]]\n",
    "    x3 = variables[:,[2]]\n",
    "    f = np.array([u1net.predict(np.concatenate((x1,x2,x3),axis=1))])\n",
    "    f2 = u2net.predict(np.concatenate((x1,x2,x3),axis=1))\n",
    "    f3 = u3net.predict(np.concatenate((x1,x2,x3),axis=1))\n",
    "    idx1 = np.where(f2 <0.8)#采用惩罚方法对于不可行解进行惩罚\n",
    "    idx2 = np.where(f3<0.85) \n",
    "    f[0][idx1] = 0\n",
    "    f[0][idx2] = 0\n",
    "    exIdx = np.unique(np.hstack([idx1,idx2])) # 得到非可行解个体的下标\n",
    "    legV[exIdx] = 0 # 标记非可行解在种群可行性列向量中对应的值为0(0表示非可行解，1表示可行解)\n",
    "    return [np.transpose(f),legV]"
   ]
  },
  {
   "cell_type": "code",
   "execution_count": 35,
   "metadata": {},
   "outputs": [
    {
     "data": {
      "image/png": "[encoded data removed]",
      "text/plain": [
       "<Figure size 432x288 with 1 Axes>"
      ]
     },
     "metadata": {
      "needs_background": "light"
     },
     "output_type": "display_data"
    },
    {
     "name": "stdout",
     "output_type": "stream",
     "text": [
      "最优的目标函数值为： 1.9218517744236876\n",
      "最优的控制变量值为：\n",
      "1.1745911841781895\n",
      "0.4899471949046874\n",
      "0.7955282317824379\n",
      "最优的一代是第 2268 代\n",
      "时间已过 68.59720659255981 秒\n"
     ]
    }
   ],
   "source": [
    "##开始遗传算法##\n",
    "# 变量设置\n",
    "x1 = [0, 3]                        # 自变量1的范围\n",
    "x2 = [0, 2]                      # 自变量2的范围\n",
    "x3 = [0, 2]                      # 自变量3的范围\n",
    "b1 = [1, 1]                          # 自变量1是否包含界\n",
    "b2 = [1, 1]                          # 自变量2是否包含界\n",
    "b3 = [1, 1]                          # 自变量3是否包含界\n",
    "ranges = np.vstack([x1, x2, x3]).T       # 生成自变量的范围矩阵\n",
    "borders = np.vstack([b1, b2, b3]).T      # 生成自变量的边界矩阵\n",
    "FieldDR = ga.crtfld(ranges, borders) # 生成区域描述器\n",
    "# 调用模板,最小化目标函数\n",
    "[pop_trace, var_trace, times] = GAtemplate(aim, punishing, FieldDR, problem = 'R', maxormin = -1, MAXGEN = 3000, NIND = 1000, SUBPOP = 1, GGAP = 0.9, selectStyle = 'tour', recombinStyle = 'xovdp', recopt = 0.9, pm = 0.3, drawing = 1)\n"
   ]
  },
  {
   "cell_type": "code",
   "execution_count": null,
   "metadata": {},
   "outputs": [],
   "source": []
  }
 ],
 "metadata": {
  "kernelspec": {
   "display_name": "Python 3",
   "language": "python",
   "name": "python3"
  },
  "language_info": {
   "codemirror_mode": {
    "name": "ipython",
    "version": 3
   },
   "file_extension": ".py",
   "mimetype": "text/x-python",
   "name": "python",
   "nbconvert_exporter": "python",
   "pygments_lexer": "ipython3",
   "version": "3.7.0"
  }
 },
 "nbformat": 4,
 "nbformat_minor": 2
}
